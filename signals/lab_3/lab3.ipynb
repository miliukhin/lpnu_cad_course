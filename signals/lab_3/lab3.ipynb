{
 "cells": [
  {
   "cell_type": "code",
   "execution_count": 1,
   "metadata": {
    "ExecuteTime": {
     "end_time": "2024-03-28T19:58:51.360572Z",
     "start_time": "2024-03-28T19:58:50.753633Z"
    }
   },
   "outputs": [
    {
     "ename": "AttributeError",
     "evalue": "module 'numpy.linalg.linalg' has no attribute '__all__'",
     "output_type": "error",
     "traceback": [
      "\u001b[0;31m---------------------------------------------------------------------------\u001b[0m",
      "\u001b[0;31mAttributeError\u001b[0m                            Traceback (most recent call last)",
      "Cell \u001b[0;32mIn[1], line 1\u001b[0m\n\u001b[0;32m----> 1\u001b[0m \u001b[38;5;28;01mimport\u001b[39;00m \u001b[38;5;21;01mnumpy\u001b[39;00m \u001b[38;5;28;01mas\u001b[39;00m \u001b[38;5;21;01mnp\u001b[39;00m\n\u001b[1;32m      2\u001b[0m \u001b[38;5;28;01mimport\u001b[39;00m \u001b[38;5;21;01mmatplotlib\u001b[39;00m\u001b[38;5;21;01m.\u001b[39;00m\u001b[38;5;21;01mpyplot\u001b[39;00m \u001b[38;5;28;01mas\u001b[39;00m \u001b[38;5;21;01mplt\u001b[39;00m\n\u001b[1;32m      4\u001b[0m \u001b[38;5;28;01mfrom\u001b[39;00m \u001b[38;5;21;01mthinkdsp\u001b[39;00m \u001b[38;5;28;01mimport\u001b[39;00m decorate\n",
      "File \u001b[0;32m/usr/lib/python3.12/site-packages/numpy/__init__.py:149\u001b[0m\n\u001b[1;32m    147\u001b[0m \u001b[38;5;28;01mfrom\u001b[39;00m \u001b[38;5;21;01m.\u001b[39;00m \u001b[38;5;28;01mimport\u001b[39;00m exceptions\n\u001b[1;32m    148\u001b[0m \u001b[38;5;28;01mfrom\u001b[39;00m \u001b[38;5;21;01m.\u001b[39;00m \u001b[38;5;28;01mimport\u001b[39;00m dtypes\n\u001b[0;32m--> 149\u001b[0m \u001b[38;5;28;01mfrom\u001b[39;00m \u001b[38;5;21;01m.\u001b[39;00m \u001b[38;5;28;01mimport\u001b[39;00m lib\n\u001b[1;32m    150\u001b[0m \u001b[38;5;66;03m# NOTE: to be revisited following future namespace cleanup.\u001b[39;00m\n\u001b[1;32m    151\u001b[0m \u001b[38;5;66;03m# See gh-14454 and gh-15672 for discussion.\u001b[39;00m\n\u001b[1;32m    152\u001b[0m \u001b[38;5;28;01mfrom\u001b[39;00m \u001b[38;5;21;01m.\u001b[39;00m\u001b[38;5;21;01mlib\u001b[39;00m \u001b[38;5;28;01mimport\u001b[39;00m \u001b[38;5;241m*\u001b[39m\n",
      "File \u001b[0;32m/usr/lib/python3.12/site-packages/numpy/lib/__init__.py:23\u001b[0m\n\u001b[1;32m     20\u001b[0m \u001b[38;5;66;03m# Private submodules\u001b[39;00m\n\u001b[1;32m     21\u001b[0m \u001b[38;5;66;03m# load module names. See https://github.com/networkx/networkx/issues/5838\u001b[39;00m\n\u001b[1;32m     22\u001b[0m \u001b[38;5;28;01mfrom\u001b[39;00m \u001b[38;5;21;01m.\u001b[39;00m \u001b[38;5;28;01mimport\u001b[39;00m type_check\n\u001b[0;32m---> 23\u001b[0m \u001b[38;5;28;01mfrom\u001b[39;00m \u001b[38;5;21;01m.\u001b[39;00m \u001b[38;5;28;01mimport\u001b[39;00m index_tricks\n\u001b[1;32m     24\u001b[0m \u001b[38;5;28;01mfrom\u001b[39;00m \u001b[38;5;21;01m.\u001b[39;00m \u001b[38;5;28;01mimport\u001b[39;00m function_base\n\u001b[1;32m     25\u001b[0m \u001b[38;5;28;01mfrom\u001b[39;00m \u001b[38;5;21;01m.\u001b[39;00m \u001b[38;5;28;01mimport\u001b[39;00m nanfunctions\n",
      "File \u001b[0;32m/usr/lib/python3.12/site-packages/numpy/lib/index_tricks.py:12\u001b[0m\n\u001b[1;32m      9\u001b[0m \u001b[38;5;28;01mfrom\u001b[39;00m \u001b[38;5;21;01mnumpy\u001b[39;00m\u001b[38;5;21;01m.\u001b[39;00m\u001b[38;5;21;01mcore\u001b[39;00m\u001b[38;5;21;01m.\u001b[39;00m\u001b[38;5;21;01mnumeric\u001b[39;00m \u001b[38;5;28;01mimport\u001b[39;00m ScalarType, array\n\u001b[1;32m     10\u001b[0m \u001b[38;5;28;01mfrom\u001b[39;00m \u001b[38;5;21;01mnumpy\u001b[39;00m\u001b[38;5;21;01m.\u001b[39;00m\u001b[38;5;21;01mcore\u001b[39;00m\u001b[38;5;21;01m.\u001b[39;00m\u001b[38;5;21;01mnumerictypes\u001b[39;00m \u001b[38;5;28;01mimport\u001b[39;00m issubdtype\n\u001b[0;32m---> 12\u001b[0m \u001b[38;5;28;01mimport\u001b[39;00m \u001b[38;5;21;01mnumpy\u001b[39;00m\u001b[38;5;21;01m.\u001b[39;00m\u001b[38;5;21;01mmatrixlib\u001b[39;00m \u001b[38;5;28;01mas\u001b[39;00m \u001b[38;5;21;01mmatrixlib\u001b[39;00m\n\u001b[1;32m     13\u001b[0m \u001b[38;5;28;01mfrom\u001b[39;00m \u001b[38;5;21;01m.\u001b[39;00m\u001b[38;5;21;01mfunction_base\u001b[39;00m \u001b[38;5;28;01mimport\u001b[39;00m diff\n\u001b[1;32m     14\u001b[0m \u001b[38;5;28;01mfrom\u001b[39;00m \u001b[38;5;21;01mnumpy\u001b[39;00m\u001b[38;5;21;01m.\u001b[39;00m\u001b[38;5;21;01mcore\u001b[39;00m\u001b[38;5;21;01m.\u001b[39;00m\u001b[38;5;21;01mmultiarray\u001b[39;00m \u001b[38;5;28;01mimport\u001b[39;00m ravel_multi_index, unravel_index\n",
      "File \u001b[0;32m/usr/lib/python3.12/site-packages/numpy/matrixlib/__init__.py:4\u001b[0m\n\u001b[1;32m      1\u001b[0m \u001b[38;5;124;03m\"\"\"Sub-package containing the matrix class and related functions.\u001b[39;00m\n\u001b[1;32m      2\u001b[0m \n\u001b[1;32m      3\u001b[0m \u001b[38;5;124;03m\"\"\"\u001b[39;00m\n\u001b[0;32m----> 4\u001b[0m \u001b[38;5;28;01mfrom\u001b[39;00m \u001b[38;5;21;01m.\u001b[39;00m \u001b[38;5;28;01mimport\u001b[39;00m defmatrix\n\u001b[1;32m      5\u001b[0m \u001b[38;5;28;01mfrom\u001b[39;00m \u001b[38;5;21;01m.\u001b[39;00m\u001b[38;5;21;01mdefmatrix\u001b[39;00m \u001b[38;5;28;01mimport\u001b[39;00m \u001b[38;5;241m*\u001b[39m\n\u001b[1;32m      7\u001b[0m __all__ \u001b[38;5;241m=\u001b[39m defmatrix\u001b[38;5;241m.\u001b[39m__all__\n",
      "File \u001b[0;32m/usr/lib/python3.12/site-packages/numpy/matrixlib/defmatrix.py:12\u001b[0m\n\u001b[1;32m      9\u001b[0m \u001b[38;5;28;01mfrom\u001b[39;00m \u001b[38;5;21;01mnumpy\u001b[39;00m\u001b[38;5;21;01m.\u001b[39;00m\u001b[38;5;21;01mcore\u001b[39;00m\u001b[38;5;21;01m.\u001b[39;00m\u001b[38;5;21;01mnumeric\u001b[39;00m \u001b[38;5;28;01mimport\u001b[39;00m concatenate, isscalar\n\u001b[1;32m     10\u001b[0m \u001b[38;5;66;03m# While not in __all__, matrix_power used to be defined here, so we import\u001b[39;00m\n\u001b[1;32m     11\u001b[0m \u001b[38;5;66;03m# it for backward compatibility.\u001b[39;00m\n\u001b[0;32m---> 12\u001b[0m \u001b[38;5;28;01mfrom\u001b[39;00m \u001b[38;5;21;01mnumpy\u001b[39;00m\u001b[38;5;21;01m.\u001b[39;00m\u001b[38;5;21;01mlinalg\u001b[39;00m \u001b[38;5;28;01mimport\u001b[39;00m matrix_power\n\u001b[1;32m     15\u001b[0m \u001b[38;5;28;01mdef\u001b[39;00m \u001b[38;5;21m_convert_from_string\u001b[39m(data):\n\u001b[1;32m     16\u001b[0m     \u001b[38;5;28;01mfor\u001b[39;00m char \u001b[38;5;129;01min\u001b[39;00m \u001b[38;5;124m'\u001b[39m\u001b[38;5;124m[]\u001b[39m\u001b[38;5;124m'\u001b[39m:\n",
      "File \u001b[0;32m/usr/lib/python3.12/site-packages/numpy/linalg/__init__.py:76\u001b[0m\n\u001b[1;32m     73\u001b[0m \u001b[38;5;28;01mfrom\u001b[39;00m \u001b[38;5;21;01m.\u001b[39;00m \u001b[38;5;28;01mimport\u001b[39;00m linalg\n\u001b[1;32m     74\u001b[0m \u001b[38;5;28;01mfrom\u001b[39;00m \u001b[38;5;21;01m.\u001b[39;00m\u001b[38;5;21;01mlinalg\u001b[39;00m \u001b[38;5;28;01mimport\u001b[39;00m \u001b[38;5;241m*\u001b[39m\n\u001b[0;32m---> 76\u001b[0m __all__ \u001b[38;5;241m=\u001b[39m \u001b[43mlinalg\u001b[49m\u001b[38;5;241;43m.\u001b[39;49m\u001b[43m__all__\u001b[49m\u001b[38;5;241m.\u001b[39mcopy()\n\u001b[1;32m     78\u001b[0m \u001b[38;5;28;01mfrom\u001b[39;00m \u001b[38;5;21;01mnumpy\u001b[39;00m\u001b[38;5;21;01m.\u001b[39;00m\u001b[38;5;21;01m_pytesttester\u001b[39;00m \u001b[38;5;28;01mimport\u001b[39;00m PytestTester\n\u001b[1;32m     79\u001b[0m test \u001b[38;5;241m=\u001b[39m PytestTester(\u001b[38;5;18m__name__\u001b[39m)\n",
      "\u001b[0;31mAttributeError\u001b[0m: module 'numpy.linalg.linalg' has no attribute '__all__'"
     ]
    }
   ],
   "source": [
    "import numpy as np\n",
    "import matplotlib.pyplot as plt\n",
    "\n",
    "from thinkdsp import decorate\n",
    "from thinkdsp import read_wave"
   ]
  },
  {
   "cell_type": "code",
   "execution_count": null,
   "metadata": {
    "ExecuteTime": {
     "end_time": "2024-03-28T19:58:51.363462Z",
     "start_time": "2024-03-28T19:58:51.361546Z"
    }
   },
   "outputs": [],
   "source": [
    "np.random.seed(17)"
   ]
  },
  {
   "cell_type": "markdown",
   "metadata": {},
   "source": [
    "Завантажую шуми"
   ]
  },
  {
   "cell_type": "code",
   "execution_count": null,
   "metadata": {
    "ExecuteTime": {
     "end_time": "2024-03-28T19:58:51.374314Z",
     "start_time": "2024-03-28T19:58:51.364060Z"
    },
    "collapsed": false,
    "jupyter": {
     "outputs_hidden": false
    }
   },
   "outputs": [],
   "source": [
    "from thinkdsp import UncorrelatedUniformNoise\n",
    "\n",
    "white_signal = UncorrelatedUniformNoise()\n",
    "#wave = signal.make_wave(duration=0.5, framerate=11025)\n",
    "wave = read_wave(\"13793__soarer__north-sea.wav\")\n",
    "blue = read_wave(\"Noise/blue_noise.wav\")\n",
    "brown = read_wave(\"Noise/brown_noise.wav\")\n",
    "green = read_wave(\"Noise/green_noise.wav\")\n",
    "grey = read_wave(\"Noise/grey_noise.wav\")\n",
    "pink = read_wave(\"Noise/pink_noise.wav\")\n",
    "purple = read_wave(\"Noise/purple_noise.wav\")\n",
    "white = read_wave(\"Noise/white_noise.wav\")\n",
    "\n",
    "wave.make_audio()"
   ]
  },
  {
   "cell_type": "markdown",
   "metadata": {},
   "source": [
    "Вигляд фрагментів"
   ]
  },
  {
   "cell_type": "code",
   "execution_count": null,
   "metadata": {
    "ExecuteTime": {
     "end_time": "2024-03-28T19:58:51.551198Z",
     "start_time": "2024-03-28T19:58:51.374881Z"
    },
    "collapsed": false,
    "jupyter": {
     "outputs_hidden": false
    }
   },
   "outputs": [],
   "source": [
    "s1 = wave.segment(duration=0.5)\n",
    "s2 = wave.segment(start=0.5, duration=0.5)\n",
    "s3 = wave.segment(start=1, duration=0.5)\n",
    "s1.plot()\n",
    "s2.plot()\n",
    "s3.plot()\n",
    "\n",
    "decorate(xlabel='Time (s)',\n",
    "         ylabel='Amplitude')"
   ]
  },
  {
   "cell_type": "markdown",
   "metadata": {},
   "source": [
    "А ось спектр:"
   ]
  },
  {
   "cell_type": "code",
   "execution_count": null,
   "metadata": {},
   "outputs": [],
   "source": [
    "spectrum = wave.make_spectrum()\n",
    "# spectrum.plot(linewidth=0.5)\n",
    "s1_sp = s1.make_spectrum()\n",
    "s2_sp = s2.make_spectrum()\n",
    "s3_sp = s3.make_spectrum()\n",
    "\n",
    "s1_sp.plot(linewidth=0.5)\n",
    "s2_sp.plot(linewidth=0.5)\n",
    "s3_sp.plot(linewidth=0.5)\n",
    "\n",
    "decorate(xlabel='Frequency (Hz)',\n",
    "         ylabel='Amplitude')\n",
    "\n"
   ]
  },
  {
   "attachments": {},
   "cell_type": "markdown",
   "metadata": {},
   "source": [
    "Спектр потужности:"
   ]
  },
  {
   "cell_type": "code",
   "execution_count": null,
   "metadata": {
    "ExecuteTime": {
     "end_time": "2024-03-28T19:58:51.804297Z",
     "start_time": "2024-03-28T19:58:51.685751Z"
    },
    "collapsed": false,
    "jupyter": {
     "outputs_hidden": false
    },
    "scrolled": true
   },
   "outputs": [],
   "source": [
    "#spectrum.plot_power(linewidth=0.5)\n",
    "\n",
    "s1_sp.plot_power(linewidth=0.5)\n",
    "s2_sp.plot_power(linewidth=0.5)\n",
    "s3_sp.plot_power(linewidth=0.5)\n",
    "\n",
    "decorate(xlabel='Frequency (Hz)',\n",
    "         ylabel='Power')"
   ]
  },
  {
   "cell_type": "markdown",
   "metadata": {},
   "source": [
    "Графік потужності інтегрованого спектру:"
   ]
  },
  {
   "cell_type": "code",
   "execution_count": null,
   "metadata": {
    "ExecuteTime": {
     "end_time": "2024-03-28T19:58:51.897456Z",
     "start_time": "2024-03-28T19:58:51.805083Z"
    },
    "collapsed": false,
    "jupyter": {
     "outputs_hidden": false
    }
   },
   "outputs": [],
   "source": [
    "integ = spectrum.make_integrated_spectrum()\n",
    "\n",
    "s1_isp = s1_sp.make_integrated_spectrum()\n",
    "s2_isp = s2_sp.make_integrated_spectrum()\n",
    "s3_isp = s3_sp.make_integrated_spectrum()\n",
    "\n",
    "integ.plot_power()\n",
    "s1_isp.plot_power()\n",
    "s2_isp.plot_power()\n",
    "s3_isp.plot_power()\n",
    "\n",
    "decorate(xlabel='Frequency (Hz)',\n",
    "         ylabel='Cumulative power')"
   ]
  },
  {
   "cell_type": "code",
   "execution_count": null,
   "metadata": {},
   "outputs": [],
   "source": [
    "\n",
    "blue_isp = blue.make_spectrum().make_integrated_spectrum()\n",
    "brown_isp = brown.make_spectrum().make_integrated_spectrum()\n",
    "green_isp = green.make_spectrum().make_integrated_spectrum()\n",
    "grey_isp = grey.make_spectrum().make_integrated_spectrum()\n",
    "pink_isp = pink.make_spectrum().make_integrated_spectrum()\n",
    "purple_isp = purple.make_spectrum().make_integrated_spectrum()\n",
    "white_isp = white.make_spectrum().make_integrated_spectrum()\n",
    "\n",
    "blue_isp.plot_power(color=\"blue\")\n",
    "brown_isp.plot_power(color=\"brown\")\n",
    "green_isp.plot_power(color=\"green\")\n",
    "grey_isp.plot_power(color=\"grey\")\n",
    "pink_isp.plot_power(color=\"pink\")\n",
    "purple_isp.plot_power(color=\"purple\")\n",
    "white_isp.plot_power(color=\"lightgrey\")\n",
    "\n",
    "s1_isp.plot_power(linewidth=1.5, color=\"black\")\n",
    "#decorate(**loglog)\n",
    "\n"
   ]
  },
  {
   "cell_type": "code",
   "execution_count": null,
   "metadata": {},
   "outputs": [],
   "source": [
    "blue.plot(color=\"blue\")"
   ]
  },
  {
   "cell_type": "code",
   "execution_count": null,
   "metadata": {
    "ExecuteTime": {
     "end_time": "2024-03-28T19:58:51.902135Z",
     "start_time": "2024-03-28T19:58:51.898129Z"
    },
    "collapsed": false,
    "jupyter": {
     "outputs_hidden": false
    }
   },
   "outputs": [],
   "source": [
    "from thinkdsp import BrownianNoise\n",
    "\n",
    "signal = BrownianNoise()\n",
    "wave = signal.make_wave(duration=10, framerate=11025)\n",
    "wave.make_audio()"
   ]
  },
  {
   "cell_type": "markdown",
   "metadata": {},
   "source": [
    "Звук менш яскравий або більш приглушений, ніж білий шум.\n",
    "\n",
    "Ось як виглядає хвиля:"
   ]
  },
  {
   "cell_type": "code",
   "execution_count": null,
   "metadata": {
    "ExecuteTime": {
     "end_time": "2024-03-28T19:58:52.007056Z",
     "start_time": "2024-03-28T19:58:51.902739Z"
    },
    "collapsed": false,
    "jupyter": {
     "outputs_hidden": false
    }
   },
   "outputs": [],
   "source": [
    "green.plot()\n",
    "pink.plot()\n",
    "wave.plot(linewidth=1)\n",
    "decorate(xlabel='Time (s)',\n",
    "         ylabel='Amplitude')"
   ]
  },
  {
   "cell_type": "markdown",
   "metadata": {},
   "source": [
    "Ось як виглядає спектр потужності в лінійному масштабі."
   ]
  },
  {
   "cell_type": "code",
   "execution_count": null,
   "metadata": {
    "ExecuteTime": {
     "end_time": "2024-03-28T19:58:52.102856Z",
     "start_time": "2024-03-28T19:58:52.007671Z"
    },
    "collapsed": false,
    "jupyter": {
     "outputs_hidden": false
    }
   },
   "outputs": [],
   "source": [
    "spectrum = wave.make_spectrum()\n",
    "spectrum.plot_power(linewidth=0.5)\n",
    "decorate(xlabel='Frequency (Hz)',\n",
    "         ylabel='Power')"
   ]
  },
  {
   "cell_type": "markdown",
   "metadata": {},
   "source": [
    "Велика частина енергії знаходиться на низьких частотах, ми навіть не можемо побачити високі частоти.\n",
    "\n",
    "Ми можемо отримати кращий огляд, побудувавши спектр потужності в логарифмічній шкалі."
   ]
  },
  {
   "cell_type": "code",
   "execution_count": null,
   "metadata": {
    "ExecuteTime": {
     "end_time": "2024-03-28T19:58:52.559789Z",
     "start_time": "2024-03-28T19:58:52.103486Z"
    },
    "collapsed": false,
    "jupyter": {
     "outputs_hidden": false
    }
   },
   "outputs": [],
   "source": [
    "# The f=0 component is very small, so on a log scale\n",
    "# it's very negative.  If we clobber it before plotting,\n",
    "# we can see the rest of the spectrum more clearly.\n",
    "spectrum.hs[0] = 0\n",
    "\n",
    "white_wave = white_signal.make_wave(duration=0.5, framerate=11025)\n",
    "white_spectrum = white_wave.make_spectrum()\n",
    "white = read_wave(\"Noise/white_noise.wav\")\n",
    "white_sp = white.make_spectrum()\n",
    "\n",
    "white_sp.plot_power()\n",
    "white_spectrum.plot_power()\n",
    "spectrum.plot_power(linewidth=0.5)\n",
    "\n",
    "loglog = dict(xscale='log', yscale='log')\n",
    "decorate(xlabel='Frequency (Hz)',\n",
    "         ylabel='Power',\n",
    "         **loglog)"
   ]
  },
  {
   "cell_type": "markdown",
   "metadata": {},
   "source": [
    "Тепер зв'язок між потужністю і частотою більш зрозумілий. Нахил цієї лінії становить приблизно -2, що вказує на те, що $P = K / f^2$ для деякої константи $K$."
   ]
  },
  {
   "cell_type": "code",
   "execution_count": null,
   "metadata": {
    "ExecuteTime": {
     "end_time": "2024-03-28T19:58:52.580338Z",
     "start_time": "2024-03-28T19:58:52.560573Z"
    },
    "collapsed": false,
    "jupyter": {
     "outputs_hidden": false
    }
   },
   "outputs": [],
   "source": [
    "signal =  BrownianNoise()\n",
    "wave = signal.make_wave(duration=0.5, framerate=11025)\n",
    "spectrum = wave.make_spectrum()\n",
    "result = spectrum.estimate_slope()\n",
    "result.slope"
   ]
  },
  {
   "cell_type": "code",
   "execution_count": null,
   "metadata": {
    "ExecuteTime": {
     "end_time": "2024-03-28T19:58:52.586087Z",
     "start_time": "2024-03-28T19:58:52.581793Z"
    },
    "collapsed": false,
    "jupyter": {
     "outputs_hidden": false
    }
   },
   "outputs": [],
   "source": [
    "from thinkdsp import PinkNoise\n",
    "\n",
    "signal = PinkNoise(beta=0)\n",
    "wave = signal.make_wave(duration=0.5)\n",
    "wave.make_audio()"
   ]
  },
  {
   "cell_type": "markdown",
   "metadata": {},
   "source": [
    "З $\\beta=1$ рожевий шум має співвідношення $P = K / f$, тому його ще називають шумом $1/f$."
   ]
  },
  {
   "cell_type": "code",
   "execution_count": null,
   "metadata": {
    "ExecuteTime": {
     "end_time": "2024-03-28T19:58:52.593722Z",
     "start_time": "2024-03-28T19:58:52.586850Z"
    },
    "collapsed": false,
    "jupyter": {
     "outputs_hidden": false
    }
   },
   "outputs": [],
   "source": [
    "signal = PinkNoise(beta=1)\n",
    "wave = signal.make_wave(duration=0.5)\n",
    "wave.make_audio()"
   ]
  },
  {
   "cell_type": "markdown",
   "metadata": {},
   "source": [
    "З $\\beta=2$ ми отримуємо броунівський (він же червоний) шум."
   ]
  },
  {
   "cell_type": "code",
   "execution_count": null,
   "metadata": {
    "ExecuteTime": {
     "end_time": "2024-03-28T19:58:52.598239Z",
     "start_time": "2024-03-28T19:58:52.594590Z"
    },
    "collapsed": false,
    "jupyter": {
     "outputs_hidden": false
    }
   },
   "outputs": [],
   "source": [
    "signal = PinkNoise(beta=2)\n",
    "wave = signal.make_wave(duration=0.5)\n",
    "wave.make_audio()"
   ]
  },
  {
   "cell_type": "markdown",
   "metadata": {},
   "source": [
    "На наступному малюнку показано спектри потужності білого, рожевого та червоного шумів у логарифмічній шкалі."
   ]
  },
  {
   "cell_type": "code",
   "execution_count": null,
   "metadata": {
    "ExecuteTime": {
     "end_time": "2024-03-28T19:58:53.044276Z",
     "start_time": "2024-03-28T19:58:52.598847Z"
    },
    "collapsed": false,
    "jupyter": {
     "outputs_hidden": false
    }
   },
   "outputs": [],
   "source": [
    "betas = [0, 1, 2]\n",
    "\n",
    "for beta in betas:\n",
    "    signal = PinkNoise(beta=beta)\n",
    "    wave = signal.make_wave(duration=0.5, framerate=1024)\n",
    "    spectrum = wave.make_spectrum()\n",
    "    spectrum.hs[0] = 0\n",
    "    label = f'beta={beta}'\n",
    "    spectrum.plot_power(linewidth=1, alpha=0.7, label=label)\n",
    "    \n",
    "decorate(xlabel='Frequency (Hz)',\n",
    "         ylabel='Power',\n",
    "         **loglog)"
   ]
  },
  {
   "cell_type": "code",
   "execution_count": null,
   "metadata": {
    "ExecuteTime": {
     "end_time": "2024-03-28T19:58:53.206467Z",
     "start_time": "2024-03-28T19:58:53.044974Z"
    },
    "collapsed": false,
    "jupyter": {
     "outputs_hidden": false
    }
   },
   "outputs": [],
   "source": [
    "from thinkdsp import UncorrelatedGaussianNoise\n",
    "\n",
    "signal = UncorrelatedGaussianNoise()\n",
    "wave = signal.make_wave(duration=0.5, framerate=11025)\n",
    "wave.plot(linewidth=0.5)\n",
    "decorate(xlabel='Time (s)',\n",
    "         ylabel='Amplitude')"
   ]
  },
  {
   "cell_type": "markdown",
   "metadata": {},
   "source": [
    "Спектр UG шуму також є UG шумом."
   ]
  },
  {
   "cell_type": "code",
   "execution_count": null,
   "metadata": {
    "ExecuteTime": {
     "end_time": "2024-03-28T19:58:53.317936Z",
     "start_time": "2024-03-28T19:58:53.207163Z"
    },
    "collapsed": false,
    "jupyter": {
     "outputs_hidden": false
    }
   },
   "outputs": [],
   "source": [
    "spectrum = wave.make_spectrum()\n",
    "spectrum.plot_power(linewidth=1)\n",
    "decorate(xlabel='Frequency (Hz)',\n",
    "         ylabel='Power')"
   ]
  },
  {
   "cell_type": "markdown",
   "metadata": {},
   "source": [
    "Ми можемо використати графік нормальної ймовірності, щоб перевірити розподіл спектра потужності."
   ]
  },
  {
   "cell_type": "code",
   "execution_count": null,
   "metadata": {
    "ExecuteTime": {
     "end_time": "2024-03-28T19:58:53.321924Z",
     "start_time": "2024-03-28T19:58:53.318638Z"
    }
   },
   "outputs": [],
   "source": [
    "def normal_prob_plot(sample, fit_color='0.8', **options):\n",
    "    \"\"\"Makes a normal probability plot with a fitted line.\n",
    "\n",
    "    sample: sequence of numbers\n",
    "    fit_color: color string for the fitted line\n",
    "    options: passed along to Plot\n",
    "    \"\"\"\n",
    "    n = len(sample)\n",
    "    xs = np.random.normal(0, 1, n)\n",
    "    xs.sort()\n",
    "    \n",
    "    ys = np.sort(sample)\n",
    "    \n",
    "    mean, std = np.mean(sample), np.std(sample)\n",
    "    fit_ys = mean + std * xs\n",
    "    plt.plot(xs, fit_ys, color='gray', alpha=0.5, label='model')\n",
    "\n",
    "    plt.plot(xs, ys, **options)"
   ]
  },
  {
   "cell_type": "code",
   "execution_count": null,
   "metadata": {
    "ExecuteTime": {
     "end_time": "2024-03-28T19:58:53.454491Z",
     "start_time": "2024-03-28T19:58:53.322552Z"
    },
    "collapsed": false,
    "jupyter": {
     "outputs_hidden": false
    }
   },
   "outputs": [],
   "source": [
    "normal_prob_plot(spectrum.real, color='C0', label='real part')\n",
    "decorate(xlabel='Normal sample',\n",
    "         ylabel='Power')"
   ]
  },
  {
   "cell_type": "markdown",
   "metadata": {},
   "source": [
    "Пряма лінія на графіку нормальної ймовірності вказує на те, що розподіл дійсної частини спектра є Гаусовим."
   ]
  },
  {
   "cell_type": "code",
   "execution_count": null,
   "metadata": {
    "ExecuteTime": {
     "end_time": "2024-03-28T19:58:53.578375Z",
     "start_time": "2024-03-28T19:58:53.455233Z"
    },
    "collapsed": false,
    "jupyter": {
     "outputs_hidden": false
    }
   },
   "outputs": [],
   "source": [
    "normal_prob_plot(spectrum.imag, color='C1', label='imag part')\n",
    "decorate(xlabel='Normal sample',\n",
    "         ylabel='Power')"
   ]
  },
  {
   "cell_type": "markdown",
   "metadata": {},
   "source": [
    "І так само уявна частина."
   ]
  },
  {
   "cell_type": "code",
   "execution_count": null,
   "metadata": {
    "ExecuteTime": {
     "end_time": "2024-03-28T19:58:53.580788Z",
     "start_time": "2024-03-28T19:58:53.579218Z"
    },
    "collapsed": false,
    "jupyter": {
     "outputs_hidden": false
    }
   },
   "outputs": [],
   "source": []
  },
  {
   "cell_type": "code",
   "execution_count": null,
   "metadata": {},
   "outputs": [],
   "source": [
    "brown.plot(color=\"brown\")"
   ]
  },
  {
   "cell_type": "code",
   "execution_count": null,
   "metadata": {},
   "outputs": [],
   "source": [
    "green.plot(color=\"green\")"
   ]
  },
  {
   "cell_type": "code",
   "execution_count": null,
   "metadata": {},
   "outputs": [],
   "source": [
    "grey.plot(color=\"grey\")"
   ]
  },
  {
   "cell_type": "code",
   "execution_count": null,
   "metadata": {},
   "outputs": [],
   "source": [
    "pink.plot(color=\"pink\")"
   ]
  },
  {
   "cell_type": "code",
   "execution_count": null,
   "metadata": {},
   "outputs": [],
   "source": [
    "purple.plot(color=\"purple\")"
   ]
  },
  {
   "cell_type": "code",
   "execution_count": null,
   "metadata": {},
   "outputs": [],
   "source": [
    "white.plot(color=\"lightgrey\") "
   ]
  },
  {
   "cell_type": "code",
   "execution_count": null,
   "metadata": {},
   "outputs": [],
   "source": [
    "green.make_spectrum().plot(color=\"green\")\n",
    "brown.make_spectrum().plot(color=\"brown\")"
   ]
  },
  {
   "cell_type": "code",
   "execution_count": null,
   "metadata": {},
   "outputs": [],
   "source": []
  }
 ],
 "metadata": {
  "kernelspec": {
   "display_name": "Python 3 (ipykernel)",
   "language": "python",
   "name": "python3"
  },
  "language_info": {
   "codemirror_mode": {
    "name": "ipython",
    "version": 3
   },
   "file_extension": ".py",
   "mimetype": "text/x-python",
   "name": "python",
   "nbconvert_exporter": "python",
   "pygments_lexer": "ipython3",
   "version": "3.12.3"
  }
 },
 "nbformat": 4,
 "nbformat_minor": 4
}
